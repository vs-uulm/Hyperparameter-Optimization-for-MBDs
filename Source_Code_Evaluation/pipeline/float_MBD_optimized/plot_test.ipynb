{
 "cells": [
  {
   "cell_type": "code",
   "execution_count": 1,
   "id": "75cd9613-cf52-48d5-9ffd-fb48b0c064db",
   "metadata": {},
   "outputs": [
    {
     "name": "stdout",
     "output_type": "stream",
     "text": [
      "File output/mixed_test_pareto_front.json does not exist\n",
      "File output/const_pos_test_weights.json does not exist\n",
      "File output/rand_speed_test_weights.json does not exist\n",
      "File output/sudden_stop_test_weights.json does not exist\n"
     ]
    }
   ],
   "source": [
    "import json\n",
    "import matplotlib.pyplot as plt\n",
    "import os\n",
    "\n",
    "def filter_and_plot(input_file, filter):\n",
    "    data_points = []  # Initialize a 2D array for storing [precision, recall]\n",
    "\n",
    "    # Read and process the file line by line\n",
    "    with open(input_file, 'r') as file:\n",
    "        for line in file:\n",
    "            try:\n",
    "                # Parse the JSON object\n",
    "                entry = json.loads(line.strip())\n",
    "\n",
    "                # Check if \"attack\" is \"mixed\"\n",
    "                if entry.get(\"attack\") == filter:\n",
    "                    # Extract \"precision\" and \"recall\"\n",
    "                    precision = entry.get(\"precision\")\n",
    "                    recall = entry.get(\"recall\")\n",
    "\n",
    "                    # Ensure both precision and recall are valid numbers\n",
    "                    if isinstance(precision, (int, float)) and isinstance(recall, (int, float)):\n",
    "                        data_points.append([precision, recall])\n",
    "            except json.JSONDecodeError as e:\n",
    "                print(f\"Invalid JSON: {e} in line: {line.strip()}\")\n",
    "\n",
    "    # Plot the data points\n",
    "    if data_points:\n",
    "        # Unpack the precision and recall values\n",
    "        precision_values, recall_values = zip(*data_points)\n",
    "\n",
    "        # Create the plot\n",
    "        plt.figure(figsize=(8, 6))\n",
    "        plt.scatter(precision_values, recall_values, c='blue', label='Data Points')\n",
    "        plt.title(\"Precision vs Recall\")\n",
    "        plt.xlabel(\"Precision\")\n",
    "        plt.ylabel(\"Recall\")\n",
    "        plt.grid(True)\n",
    "        plt.legend()\n",
    "        plt.savefig(\"output/\" + filter+\"_test_pareto.svg\", format=\"svg\")\n",
    "    else:\n",
    "        print(\"No data points to plot.\")\n",
    "\n",
    "if __name__ == \"__main__\":\n",
    "    if os.path.exists(\"output/mixed_test_weights.json\"):\n",
    "        filter_and_plot(\"output/mixed_test_weights.json\",\"mixed\")\n",
    "    else:\n",
    "        print(\"File output/mixed_test_pareto_front.json does not exist\")\n",
    "\n",
    "    if os.path.exists(\"output/const_pos_test_weights.json\"):\n",
    "        filter_and_plot(\"output/const_pos_test_weights.json\",\"const_pos\")\n",
    "    else:\n",
    "        print(\"File output/const_pos_test_weights.json does not exist\")\n",
    "\n",
    "    if os.path.exists(\"output/rand_speed_test_weights.json\"):\n",
    "        filter_and_plot(\"output/rand_speed_test_weights.json\",\"rand_speed\")\n",
    "    else:\n",
    "        print(\"File output/rand_speed_test_weights.json does not exist\")\n",
    "\n",
    "    if os.path.exists(\"output/sudden_stop_test_weights.json\"):\n",
    "        filter_and_plot(\"output/sudden_stop_test_weights.json\",\"sudden_stop\")\n",
    "    else:\n",
    "         print(\"File output/sudden_stop_test_weights.json does not exist\")\n",
    "\n",
    "#To run in terminal: jupyter nbconvert --execute --to notebook plot_p_r.ipynbd"
   ]
  },
  {
   "cell_type": "code",
   "execution_count": null,
   "id": "d7929555-6efc-4d64-8989-5180e389ba78",
   "metadata": {},
   "outputs": [],
   "source": []
  }
 ],
 "metadata": {
  "kernelspec": {
   "display_name": "Python 3 (ipykernel)",
   "language": "python",
   "name": "python3"
  },
  "language_info": {
   "codemirror_mode": {
    "name": "ipython",
    "version": 3
   },
   "file_extension": ".py",
   "mimetype": "text/x-python",
   "name": "python",
   "nbconvert_exporter": "python",
   "pygments_lexer": "ipython3",
   "version": "3.12.7"
  }
 },
 "nbformat": 4,
 "nbformat_minor": 5
}
